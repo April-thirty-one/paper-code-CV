{
 "cells": [
  {
   "cell_type": "markdown",
   "source": [
    "```python\n",
    "import os.path\n",
    "数据处理：\n",
    "    1、删除没有价值的数据(df.drop([....], axis=1, inplace=True))\n",
    "    2、删除缺失值严重的列(df.isnull().sum())\n",
    "    3、画图，做进一步的数据分析\n",
    "        （1）把范围性数字数据转换为str类型 --> object类型\n",
    "        （2）开始画图\n",
    "    4、df.value_counts() -- 统计每个分类的数量\n",
    "    5、把具有相同作用的特征合并为一个特征\n",
    "    6、np.where(condition, x, y) -- 满足条件(condition)，输出x，不满足输出y。\n",
    "    7、sklearn.pipeline.Pipeline -- 函数可以把多个“处理数据的节点”按顺序打包在一起，数据在前一个节点处理之后的结果，\n",
    "                                转到下一个节点处理。\n",
    "    8、sklearn.impute.SimpleImputer -- sklearn中专门用来处理缺失值的方法\n",
    "    9、sklearn.preprocessing.OneHotEncoder -- 是分类变量作为二进制向量的表示\n",
    "    10、os.listdir(dir) -- 用于返回指定的文件夹包含的文件或文件夹的名字的列表\n",
    "    11、map(function, iterable) -- 第一个参数 function 以参数序列中的每一个元素调用 function 函数，返回包含每次 function 函数返回值的新列表\n",
    "    12、scheduler = torch.optim.lr_scheduler.StepLR(optimizer, step_size=1, gamma=0.1)  -- 设置学习率下降策略，lr = lr *gamma\n",
    "    13、os.path.join() – 函数用于路径拼接文件路径，可以传入多个路径，传入元素以'/'分隔\n",
    "    14、unsqueeze_() -- 增加维度\n",
    "    15、os.path.abspath(__ file __) – 表示 获取当前脚本的完整路径: ..../src\n",
    "    16、os.path.dirname(os.getcwd()) – 表示 获取当前脚本的相对路径: .../B_VGG\n",
    "    17、torch.topk(Tensor, k, dim) -- 找出前k大的数据，和索引序列； return：Tensor:前k大的值， LongTensor:前k大值所在的位置\n",
    "    18、transforms.TenCrop(size, vertical_flip) -- 在图像的上下左右以及中心裁剪出尺寸为size的5张图片， TenCrop对这5张图片进行水平或者垂直镜像获得10张图片(若 vertical_flip=False -- 使用水平反转，反之使用垂直翻转)\n",
    "    19、model.features[i].weight.shape -- 查看卷积核的形状\n",
    "    20、os.path.dirname(path) -- 功能：去掉文件名，返回目录(去掉路径的最后一级)\n",
    "    21、os.path.basename(path) -- 功能：返回路径的最后一级\n",
    "    22、os.walk(top[, topdown=True[, onerror=None[, followlinks=False]]]) --\n",
    "                    top -- 是你所要遍历的目录的地址, 返回的是一个三元组(root,dirs,files)。\n",
    "                                root 所指的是当前正在遍历的这个文件夹的本身的地址\n",
    "                                dirs 是一个 list ，内容是该文件夹中所有的目录的名字(不包括子目录)\n",
    "                                files 同样是 list , 内容是该文件夹中所有的文件(不包括子目录)\n",
    "                    topdown --可选，为 True，则优先遍历 top 目录，否则优先遍历 top 的子目录(默认为开启)。如果 topdown 参数为 True，walk 会遍历top文件夹，与top 文件夹中每一个子目录。\n",
    "\n",
    "                    onerror -- 可选，需要一个 callable 对象，当 walk 需要异常时，会调用。\n",
    "\n",
    "                    followlinks -- 可选，如果为 True，则会遍历目录下的快捷方式(linux 下是软连接 symbolic link )实际所指的目录(默认关闭)，如果为 False，则优先遍历 top 的子目录。\n",
    "```"
   ],
   "metadata": {
    "collapsed": false,
    "pycharm": {
     "name": "#%% md\n"
    }
   }
  },
  {
   "cell_type": "code",
   "execution_count": 1,
   "outputs": [],
   "source": [
    "import os"
   ],
   "metadata": {
    "collapsed": false,
    "pycharm": {
     "name": "#%%\n"
    }
   }
  },
  {
   "cell_type": "code",
   "execution_count": 3,
   "outputs": [],
   "source": [
    "base = os.path.dirname(os.getcwd())"
   ],
   "metadata": {
    "collapsed": false,
    "pycharm": {
     "name": "#%%\n"
    }
   }
  },
  {
   "cell_type": "code",
   "execution_count": 21,
   "outputs": [
    {
     "data": {
      "text/plain": "'D:\\\\document\\\\code\\\\python\\\\py-document\\\\paper-code-CV\\\\lesson\\\\C_GoogleNet_v1\\\\data'"
     },
     "execution_count": 21,
     "metadata": {},
     "output_type": "execute_result"
    }
   ],
   "source": [
    "target = os.path.join(base, \"lesson\", \"C_GoogleNet_v1\", \"data\", \"fake_dataset\")\n",
    "target = os.path.dirname(target)\n",
    "target"
   ],
   "metadata": {
    "collapsed": false,
    "pycharm": {
     "name": "#%%\n"
    }
   }
  },
  {
   "cell_type": "code",
   "execution_count": 20,
   "outputs": [
    {
     "name": "stdout",
     "output_type": "stream",
     "text": [
      "root = D:\\document\\code\\python\\py-document\\paper-code-CV\\lesson\\C_GoogleNet_v1\\data\\fake_dataset\n",
      "dir = ['ALB', 'BET', 'DOL', 'LAG', 'NoF', 'OTHER', 'SHARK', 'YFT']\n",
      "file = []\n",
      "\n",
      "root = D:\\document\\code\\python\\py-document\\paper-code-CV\\lesson\\C_GoogleNet_v1\\data\\fake_dataset\\ALB\n",
      "dir = []\n",
      "file = ['img_00003.jpg', 'img_00010.jpg', 'img_00012.jpg', 'img_00015.jpg']\n",
      "\n",
      "root = D:\\document\\code\\python\\py-document\\paper-code-CV\\lesson\\C_GoogleNet_v1\\data\\fake_dataset\\BET\n",
      "dir = []\n",
      "file = ['img_00107.jpg', 'img_00158.jpg', 'img_00225.jpg', 'img_00231.jpg']\n",
      "\n",
      "root = D:\\document\\code\\python\\py-document\\paper-code-CV\\lesson\\C_GoogleNet_v1\\data\\fake_dataset\\DOL\n",
      "dir = []\n",
      "file = ['img_00165.jpg', 'img_00325.jpg', 'img_00348.jpg', 'img_00352.jpg']\n",
      "\n",
      "root = D:\\document\\code\\python\\py-document\\paper-code-CV\\lesson\\C_GoogleNet_v1\\data\\fake_dataset\\LAG\n",
      "dir = []\n",
      "file = ['img_00176.jpg', 'img_00657.jpg', 'img_00784.jpg']\n",
      "\n",
      "root = D:\\document\\code\\python\\py-document\\paper-code-CV\\lesson\\C_GoogleNet_v1\\data\\fake_dataset\\NoF\n",
      "dir = []\n",
      "file = ['img_00008.jpg', 'img_00011.jpg', 'img_00022.jpg', 'img_00028.jpg']\n",
      "\n",
      "root = D:\\document\\code\\python\\py-document\\paper-code-CV\\lesson\\C_GoogleNet_v1\\data\\fake_dataset\\OTHER\n",
      "dir = []\n",
      "file = ['img_00183.jpg', 'img_00226.jpg', 'img_00261.jpg']\n",
      "\n",
      "root = D:\\document\\code\\python\\py-document\\paper-code-CV\\lesson\\C_GoogleNet_v1\\data\\fake_dataset\\SHARK\n",
      "dir = []\n",
      "file = ['img_00235.jpg', 'img_00245.jpg', 'img_00903.jpg']\n",
      "\n",
      "root = D:\\document\\code\\python\\py-document\\paper-code-CV\\lesson\\C_GoogleNet_v1\\data\\fake_dataset\\YFT\n",
      "dir = []\n",
      "file = ['img_00021.jpg', 'img_00023.jpg', 'img_00214.jpg']\n",
      "\n"
     ]
    }
   ],
   "source": [
    "for root, dir, file in os.walk(target):\n",
    "    print(f\"root = {root}\\ndir = {dir}\\nfile = {file}\")\n",
    "    print()"
   ],
   "metadata": {
    "collapsed": false,
    "pycharm": {
     "name": "#%%\n"
    }
   }
  },
  {
   "cell_type": "code",
   "execution_count": null,
   "outputs": [],
   "source": [],
   "metadata": {
    "collapsed": false,
    "pycharm": {
     "name": "#%%\n"
    }
   }
  }
 ],
 "metadata": {
  "kernelspec": {
   "display_name": "Python 3",
   "language": "python",
   "name": "python3"
  },
  "language_info": {
   "codemirror_mode": {
    "name": "ipython",
    "version": 2
   },
   "file_extension": ".py",
   "mimetype": "text/x-python",
   "name": "python",
   "nbconvert_exporter": "python",
   "pygments_lexer": "ipython2",
   "version": "2.7.6"
  }
 },
 "nbformat": 4,
 "nbformat_minor": 0
}