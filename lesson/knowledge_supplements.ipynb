{
 "cells": [
  {
   "cell_type": "markdown",
   "source": [
    "```python\n",
    "数据处理：\n",
    "    1、删除没有价值的数据(df.drop([....], axis=1, inplace=True))\n",
    "    2、删除缺失值严重的列(df.isnull().sum())\n",
    "    3、画图，做进一步的数据分析\n",
    "        （1）把范围性数字数据转换为str类型 --> object类型\n",
    "        （2）开始画图\n",
    "    4、df.value_counts() -- 统计每个分类的数量\n",
    "    5、把具有相同作用的特征合并为一个特征\n",
    "    6、np.where(condition, x, y) -- 满足条件(condition)，输出x，不满足输出y。\n",
    "    7、sklearn.pipeline.Pipeline -- 函数可以把多个“处理数据的节点”按顺序打包在一起，数据在前一个节点处理之后的结果，\n",
    "                                转到下一个节点处理。\n",
    "    8、sklearn.impute.SimpleImputer -- sklearn中专门用来处理缺失值的方法\n",
    "    9、sklearn.preprocessing.OneHotEncoder -- 是分类变量作为二进制向量的表示\n",
    "    10、os.listdir(dir) -- 用于返回指定的文件夹包含的文件或文件夹的名字的列表\n",
    "    11、map(function, iterable) -- 第一个参数 function 以参数序列中的每一个元素调用 function 函数，返回包含每次 function 函数返回值的新列表\n",
    "    12、scheduler = torch.optim.lr_scheduler.StepLR(optimizer, step_size=1, gamma=0.1)  -- 设置学习率下降策略，lr = lr *gamma\n",
    "    13、os.path.join() – 函数用于路径拼接文件路径，可以传入多个路径，传入元素以'/'分隔\n",
    "    14、unsqueeze_() -- 增加维度\n",
    "    15、os.path.abspath(__ file __) – 表示 获取当前脚本的完整路径: ..../src\n",
    "    16、os.path.dirname(os.getcwd()) – 表示 获取当前脚本的相对路径: .../B_VGG\n",
    "    17、torch.topk(Tensor, k, dim) -- 找出前k大的数据，和索引序列； return：Tensor:前k大的值， LongTensor:前k大值所在的位置\n",
    "    18、transforms.TenCrop(size, vertical_flip) -- 在图像的上下左右以及中心裁剪出尺寸为size的5张图片， TenCrop对这5张图片进行水平或者垂直镜像获得10张图片(若 vertical_flip=False -- 使用水平反转，反之使用垂直翻转)\n",
    "    19、model.features[i].weight.shape -- 查看卷积核的形状\n",
    "    20、os.path.dirname(path) -- 功能：去掉文件名，返回目录\n",
    "```"
   ],
   "metadata": {
    "collapsed": false,
    "pycharm": {
     "name": "#%% md\n"
    }
   }
  },
  {
   "cell_type": "markdown",
   "source": [
    "### 1、os.path.join() -- 函数用于路径拼接文件路径，可以传入多个路径"
   ],
   "metadata": {
    "collapsed": false,
    "pycharm": {
     "name": "#%% md\n"
    }
   }
  },
  {
   "cell_type": "code",
   "execution_count": 1,
   "outputs": [],
   "source": [
    "import os"
   ],
   "metadata": {
    "collapsed": false,
    "pycharm": {
     "name": "#%%\n"
    }
   }
  },
  {
   "cell_type": "code",
   "execution_count": 2,
   "outputs": [
    {
     "data": {
      "text/plain": "'os\\\\path\\\\join'"
     },
     "execution_count": 2,
     "metadata": {},
     "output_type": "execute_result"
    }
   ],
   "source": [
    "a = 'os'\n",
    "b = 'path'\n",
    "c = 'join'\n",
    "os.path.join(a, b, c)"
   ],
   "metadata": {
    "collapsed": false,
    "pycharm": {
     "name": "#%%\n"
    }
   }
  },
  {
   "cell_type": "markdown",
   "source": [
    "### 2、unsqueeze_() -- 增加维度"
   ],
   "metadata": {
    "collapsed": false,
    "pycharm": {
     "name": "#%% md\n"
    }
   }
  },
  {
   "cell_type": "code",
   "execution_count": 9,
   "outputs": [],
   "source": [
    "\n",
    "import torch"
   ],
   "metadata": {
    "collapsed": false,
    "pycharm": {
     "name": "#%%\n"
    }
   }
  },
  {
   "cell_type": "code",
   "execution_count": 17,
   "outputs": [
    {
     "data": {
      "text/plain": "torch.Size([2, 3])"
     },
     "execution_count": 17,
     "metadata": {},
     "output_type": "execute_result"
    }
   ],
   "source": [
    "var = torch.tensor([\n",
    "    [1, 2, 3],\n",
    "    [4, 5, 6]\n",
    "])\n",
    "var.shape"
   ],
   "metadata": {
    "collapsed": false,
    "pycharm": {
     "name": "#%%\n"
    }
   }
  },
  {
   "cell_type": "code",
   "execution_count": 18,
   "outputs": [
    {
     "data": {
      "text/plain": "torch.Size([1, 2, 3])"
     },
     "execution_count": 18,
     "metadata": {},
     "output_type": "execute_result"
    }
   ],
   "source": [
    "var.unsqueeze_(0)\n",
    "var.shape"
   ],
   "metadata": {
    "collapsed": false,
    "pycharm": {
     "name": "#%%\n"
    }
   }
  },
  {
   "cell_type": "markdown",
   "source": [
    "#"
   ],
   "metadata": {
    "collapsed": false,
    "pycharm": {
     "name": "#%% md\n"
    }
   }
  },
  {
   "cell_type": "markdown",
   "source": [
    "### 3、os.path.abspath(__ file __) -- 表示 获取当前脚本的完整路径"
   ],
   "metadata": {
    "collapsed": false,
    "pycharm": {
     "name": "#%% md\n"
    }
   }
  },
  {
   "cell_type": "code",
   "execution_count": 3,
   "outputs": [
    {
     "ename": "NameError",
     "evalue": "name '__file__' is not defined",
     "output_type": "error",
     "traceback": [
      "\u001B[1;31m---------------------------------------------------------------------------\u001B[0m",
      "\u001B[1;31mNameError\u001B[0m                                 Traceback (most recent call last)",
      "Input \u001B[1;32mIn [3]\u001B[0m, in \u001B[0;36m<cell line: 1>\u001B[1;34m()\u001B[0m\n\u001B[1;32m----> 1\u001B[0m \u001B[38;5;28mprint\u001B[39m(os\u001B[38;5;241m.\u001B[39mpath\u001B[38;5;241m.\u001B[39mabspath(\u001B[38;5;18;43m__file__\u001B[39;49m))\n",
      "\u001B[1;31mNameError\u001B[0m: name '__file__' is not defined"
     ]
    }
   ],
   "source": [
    "os.path.abspath(__file__)"
   ],
   "metadata": {
    "collapsed": false,
    "pycharm": {
     "name": "#%%\n"
    }
   }
  },
  {
   "cell_type": "code",
   "execution_count": 4,
   "outputs": [
    {
     "data": {
      "text/plain": "'BASE_DIR\\\\..\\\\results'"
     },
     "execution_count": 4,
     "metadata": {},
     "output_type": "execute_result"
    }
   ],
   "source": [
    "os.path.join(\"BASE_DIR\", \"..\", \"results\")"
   ],
   "metadata": {
    "collapsed": false,
    "pycharm": {
     "name": "#%%\n"
    }
   }
  }
 ],
 "metadata": {
  "kernelspec": {
   "display_name": "Python 3",
   "language": "python",
   "name": "python3"
  },
  "language_info": {
   "codemirror_mode": {
    "name": "ipython",
    "version": 2
   },
   "file_extension": ".py",
   "mimetype": "text/x-python",
   "name": "python",
   "nbconvert_exporter": "python",
   "pygments_lexer": "ipython2",
   "version": "2.7.6"
  }
 },
 "nbformat": 4,
 "nbformat_minor": 0
}